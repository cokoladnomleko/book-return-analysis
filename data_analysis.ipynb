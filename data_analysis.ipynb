{
 "cells": [
  {
   "cell_type": "code",
   "execution_count": 6,
   "metadata": {},
   "outputs": [],
   "source": [
    "import pandas as pd\n",
    "import numpy as np\n",
    "import joblib\n",
    "# import matplotlib.pyplot as plt\n",
    "\n",
    "# plt.style.use('ggplot')\n",
    "import plotly.express as px"
   ]
  },
  {
   "cell_type": "code",
   "execution_count": 7,
   "metadata": {},
   "outputs": [],
   "source": [
    "customers = joblib.load('data/customers_clean.pkl')\n",
    "checkouts = joblib.load('data/checkouts_clean.pkl')\n",
    "books = joblib.load('data/books_clean.pkl')\n",
    "libraries = joblib.load('data/libraries_clean.pkl')"
   ]
  },
  {
   "cell_type": "code",
   "execution_count": 8,
   "metadata": {},
   "outputs": [],
   "source": [
    "return_deadline = 28\n",
    "\n",
    "checkouts['days_return'] = (checkouts['date_returned']-checkouts['date_checkout']).dt.days"
   ]
  },
  {
   "cell_type": "markdown",
   "metadata": {},
   "source": [
    "## Late Return Aggregated Analysis\n",
    "---\n",
    "\n",
    "* Starting analysis is done on data from all libraries and all customer groups"
   ]
  },
  {
   "cell_type": "code",
   "execution_count": 9,
   "metadata": {},
   "outputs": [
    {
     "name": "stdout",
     "output_type": "stream",
     "text": [
      "Late returns total: 6.91%\n"
     ]
    }
   ],
   "source": [
    "print(f\"Late returns total: {100*len(checkouts[checkouts['days_return']>return_deadline])/len(checkouts):.2f}%\")"
   ]
  },
  {
   "cell_type": "code",
   "execution_count": 10,
   "metadata": {},
   "outputs": [
    {
     "data": {
      "application/vnd.plotly.v1+json": {
       "config": {
        "plotlyServerURL": "https://plot.ly"
       },
       "data": [
        {
         "alignmentgroup": "True",
         "bingroup": "x",
         "hovertemplate": "days_return=%{x}<br>count=%{y}<extra></extra>",
         "legendgroup": "",
         "marker": {
          "color": "#636efa",
          "pattern": {
           "shape": ""
          }
         },
         "name": "",
         "offsetgroup": "",
         "orientation": "v",
         "showlegend": false,
         "type": "histogram",
         "x": [
          14,
          62,
          100,
          25,
          21,
          18,
          26,
          122,
          10,
          63,
          5,
          8,
          8,
          16,
          10,
          22,
          25,
          17,
          134,
          12,
          22,
          25,
          23,
          11,
          11,
          10,
          15,
          53,
          27,
          17,
          7,
          26,
          11,
          15,
          5,
          22,
          15,
          19,
          21,
          21,
          13,
          5,
          11,
          16,
          10,
          17,
          19,
          5,
          19,
          24,
          25,
          17,
          7,
          11,
          13,
          18,
          21,
          14,
          25,
          17,
          26,
          20,
          27,
          25,
          21,
          24,
          8,
          14,
          25,
          12,
          6,
          20,
          22,
          6,
          23,
          20,
          5,
          7,
          5,
          68,
          9,
          16,
          14,
          24,
          27,
          24,
          56,
          179,
          10,
          20,
          25,
          141,
          5,
          13,
          10,
          5,
          15,
          27,
          5,
          22,
          16,
          18,
          23,
          25,
          25,
          15,
          15,
          22,
          25,
          5,
          19,
          7,
          23,
          17,
          23,
          12,
          14,
          12,
          18,
          18,
          16,
          19,
          20,
          8,
          25,
          21,
          12,
          24,
          25,
          8,
          15,
          15,
          14,
          16,
          27,
          23,
          6,
          20,
          22,
          17,
          20,
          6,
          6,
          15,
          27,
          6,
          20,
          19,
          11,
          17,
          14,
          54,
          72,
          22,
          153,
          11,
          8,
          18,
          17,
          26,
          79,
          23,
          27,
          15,
          6,
          22,
          8,
          11,
          21,
          7,
          8,
          15,
          104,
          13,
          6,
          12,
          20,
          17,
          17,
          14,
          23,
          23,
          15,
          8,
          16,
          19,
          27,
          5,
          9,
          18,
          23,
          16,
          5,
          18,
          10,
          11,
          61,
          170,
          25,
          5,
          13,
          5,
          16,
          27,
          7,
          22,
          5,
          8,
          5,
          10,
          14,
          13,
          23,
          9,
          17,
          14,
          15,
          6,
          11,
          21,
          13,
          19,
          15,
          26,
          20,
          13,
          8,
          26,
          19,
          10,
          14,
          9,
          18,
          17,
          81,
          25,
          5,
          6,
          26,
          11,
          5,
          24,
          25,
          19,
          18,
          24,
          19,
          21,
          18,
          20,
          7,
          11,
          16,
          151,
          6,
          22,
          8,
          16,
          7,
          9,
          7,
          24,
          26,
          5,
          8,
          20,
          12,
          17,
          7,
          6,
          6,
          7,
          15,
          95,
          58,
          16,
          17,
          20,
          14,
          8,
          21,
          6,
          8,
          7,
          24,
          8,
          19,
          90,
          22,
          25,
          6,
          112,
          10,
          22,
          20,
          15,
          12,
          14,
          24,
          11,
          5,
          6,
          9,
          25,
          12,
          16,
          7,
          22,
          27,
          63,
          18,
          25,
          11,
          41,
          12,
          10,
          10,
          19,
          11,
          6,
          5,
          13,
          16,
          11,
          24,
          103,
          10,
          26,
          17,
          14,
          27,
          19,
          21,
          27,
          126,
          5,
          26,
          19,
          24,
          17,
          11,
          14,
          23,
          47,
          23,
          16,
          20,
          15,
          16,
          22,
          74,
          22,
          23,
          27,
          19,
          11,
          8,
          24,
          15,
          11,
          18,
          11,
          7,
          7,
          9,
          22,
          11,
          16,
          19,
          18,
          7,
          14,
          8,
          15,
          145,
          17,
          9,
          26,
          26,
          15,
          9,
          26,
          24,
          23,
          25,
          8,
          8,
          21,
          5,
          22,
          26,
          24,
          25,
          11,
          15,
          24,
          15,
          16,
          21,
          17,
          17,
          18,
          15,
          25,
          16,
          20,
          19,
          12,
          18,
          24,
          20,
          8,
          17,
          5,
          22,
          9,
          26,
          8,
          21,
          10,
          7,
          25,
          19,
          16,
          21,
          25,
          5,
          27,
          11,
          16,
          21,
          24,
          5,
          20,
          7,
          18,
          14,
          19,
          12,
          5,
          6,
          13,
          17,
          20,
          178,
          24,
          13,
          52,
          12,
          5,
          18,
          15,
          26,
          14,
          9,
          10,
          6,
          22,
          15,
          24,
          6,
          19,
          18,
          15,
          15,
          5,
          15,
          14,
          22,
          23,
          13,
          25,
          16,
          23,
          15,
          16,
          13,
          8,
          25,
          20,
          95,
          8,
          19,
          6,
          5,
          16,
          15,
          25,
          5,
          19,
          12,
          19,
          10,
          20,
          20,
          22,
          17,
          12,
          17,
          21,
          21,
          16,
          5,
          19,
          26,
          27,
          21,
          12,
          8,
          18,
          14,
          14,
          12,
          13,
          19,
          22,
          9,
          27,
          23,
          11,
          8,
          15,
          18,
          16,
          59,
          7,
          8,
          26,
          16,
          27,
          63,
          9,
          5,
          42,
          17,
          50,
          10,
          17,
          11,
          5,
          20,
          9,
          75,
          7,
          11,
          17,
          12,
          21,
          22,
          25,
          13,
          14,
          26,
          24,
          6,
          13,
          5,
          9,
          25,
          24,
          15,
          6,
          26,
          27,
          18,
          21,
          20,
          16,
          18,
          9,
          16,
          11,
          25,
          20,
          19,
          21,
          6,
          16,
          109,
          21,
          6,
          16,
          72,
          173,
          26,
          17,
          11,
          27,
          26,
          15,
          15,
          32,
          132,
          7,
          45,
          16,
          16,
          46,
          24,
          12,
          27,
          19,
          22,
          18,
          20,
          25,
          22,
          12,
          10,
          5,
          7,
          6,
          17,
          11,
          5,
          12,
          12,
          25,
          20,
          11,
          22,
          5,
          25,
          11,
          29,
          8,
          12,
          5,
          14,
          13,
          14,
          21,
          14,
          26,
          9,
          173,
          6,
          11,
          21,
          18,
          20,
          26,
          12,
          173,
          26,
          13,
          17,
          7,
          161,
          8,
          27,
          7,
          27,
          5,
          16,
          20,
          15,
          13,
          175,
          5,
          8,
          20,
          25,
          24,
          19,
          134,
          26,
          5,
          14,
          15,
          24,
          22,
          19,
          17,
          13,
          9,
          22,
          23,
          19,
          10,
          6,
          162,
          16,
          22,
          14,
          20,
          27,
          24,
          25,
          24,
          14,
          23,
          15,
          23,
          25,
          14,
          142,
          7,
          19,
          18,
          24,
          23,
          8,
          27,
          13,
          16,
          21,
          16,
          5,
          11,
          6,
          6,
          21,
          10,
          24,
          21,
          6,
          5,
          16,
          15,
          168,
          44,
          11,
          17,
          6,
          5,
          22,
          13,
          12,
          5,
          7,
          13,
          22,
          20,
          20,
          8,
          48,
          11,
          12,
          17,
          26,
          20,
          8,
          26,
          11,
          20,
          21,
          156,
          16,
          25,
          14,
          13,
          24,
          25,
          12,
          11,
          9,
          21,
          26,
          16,
          22,
          18,
          19,
          78,
          5,
          21,
          17,
          18,
          20,
          6,
          14,
          12,
          18,
          21,
          18,
          11,
          23,
          5,
          16,
          21,
          118,
          11,
          15,
          17,
          26,
          17,
          18,
          9,
          8,
          5,
          10,
          7,
          16,
          26,
          25,
          18,
          8,
          93,
          8,
          13,
          17,
          15,
          20,
          23,
          24,
          7,
          16,
          22,
          10,
          6,
          11,
          21,
          22,
          17,
          15,
          15,
          13,
          11,
          139,
          25,
          21,
          25,
          12,
          27,
          16,
          15,
          16,
          6,
          15,
          17,
          14,
          8,
          13,
          26,
          5,
          8,
          22,
          92,
          25,
          8,
          18,
          18,
          18,
          23,
          13,
          17,
          24,
          17,
          12,
          22,
          26,
          6,
          22,
          177,
          12,
          5,
          25,
          6,
          9,
          6,
          15,
          17,
          24,
          20,
          18,
          24,
          10,
          16,
          7,
          19,
          24,
          20,
          23,
          20,
          8,
          24,
          24,
          24,
          6,
          27,
          11,
          9,
          5,
          14,
          24,
          16,
          25,
          25,
          15,
          25,
          145,
          15,
          27,
          25,
          21,
          16,
          18,
          25,
          12,
          24,
          18,
          8,
          165,
          14,
          11,
          11,
          10,
          27,
          22,
          11,
          6,
          9,
          27,
          11,
          17,
          23,
          15,
          8,
          8,
          8,
          17,
          26,
          11,
          8,
          11,
          8,
          21,
          8,
          97,
          17,
          6,
          116,
          26,
          5,
          15,
          13,
          9,
          19,
          18,
          23,
          5,
          13,
          20,
          6,
          26,
          9,
          7,
          25,
          22,
          9,
          22,
          16,
          9,
          21,
          27,
          6,
          17,
          26,
          23,
          75,
          5,
          15,
          9,
          22,
          27,
          29,
          12,
          26,
          26,
          18,
          8,
          20,
          10,
          24,
          8,
          13,
          8,
          10,
          6,
          27,
          25,
          8,
          16,
          12,
          14,
          10,
          19,
          173,
          5,
          15,
          23,
          25,
          17,
          21,
          5,
          9,
          23,
          10,
          7,
          26,
          9,
          13,
          11,
          6,
          25,
          16,
          5,
          146,
          10,
          13,
          24,
          16,
          14,
          17,
          24,
          6,
          20,
          23,
          10,
          7,
          6,
          7,
          15,
          24,
          16,
          24,
          13,
          7,
          21,
          12,
          24,
          26,
          26,
          5,
          7,
          7,
          19,
          11,
          6,
          19,
          13,
          21,
          23,
          6,
          8,
          9,
          26,
          57,
          6,
          11,
          13,
          18,
          13,
          7,
          20,
          22,
          23,
          14,
          25,
          16,
          26,
          47,
          9,
          21,
          27,
          13,
          25,
          9,
          23,
          23,
          23,
          19,
          23,
          16,
          15,
          6,
          12,
          12,
          19,
          14,
          20,
          22,
          94,
          5,
          26,
          17,
          8,
          16,
          21,
          18,
          23,
          16,
          55,
          7,
          22,
          11,
          6,
          18,
          21,
          18,
          21,
          6,
          16,
          13,
          16,
          27,
          12,
          146,
          70,
          8,
          22,
          16,
          12,
          20,
          14,
          21,
          13,
          27,
          12,
          30,
          86,
          19,
          23,
          11,
          8,
          14,
          26,
          45,
          10,
          20,
          63,
          27,
          17,
          21,
          27,
          20,
          9,
          17,
          23,
          17,
          5,
          101,
          6,
          19,
          26,
          18,
          25,
          14,
          17,
          10,
          59,
          55,
          18,
          7,
          17,
          15,
          26,
          12,
          27,
          12,
          12,
          13,
          20,
          23,
          21,
          27,
          23,
          13,
          20,
          9,
          9,
          8,
          16,
          9,
          21,
          23,
          15,
          9,
          25,
          19,
          128,
          6,
          5,
          9,
          22,
          21,
          21,
          24,
          25,
          10,
          11,
          17,
          19,
          7,
          22,
          24,
          9,
          23,
          12,
          20,
          20,
          5,
          13,
          5,
          6,
          16,
          18,
          10,
          24,
          14,
          11,
          22,
          27,
          11,
          22,
          22,
          18,
          19,
          17,
          6,
          19,
          20,
          20,
          14,
          15,
          19,
          20,
          23,
          7,
          15,
          18,
          14,
          9,
          18,
          25,
          18,
          8,
          12,
          14,
          16,
          18,
          15,
          6,
          19,
          13,
          116,
          7,
          18,
          24,
          13,
          27,
          18,
          18,
          26,
          15,
          11,
          13,
          70,
          19,
          11,
          12,
          6,
          8,
          12,
          15,
          15,
          22,
          18,
          79,
          8,
          15,
          19,
          14,
          8,
          10,
          144,
          18,
          25,
          25,
          23,
          26,
          127,
          67,
          23,
          13,
          22,
          8,
          9,
          6,
          18,
          15,
          10,
          13,
          24,
          15,
          19,
          17,
          27,
          27,
          8,
          18,
          22,
          24,
          27,
          8,
          24,
          15,
          10,
          15,
          20,
          21,
          20,
          12,
          144,
          14,
          22,
          8,
          15,
          8,
          15,
          27,
          23,
          6,
          20,
          21,
          23,
          24,
          6,
          10,
          19,
          22
         ],
         "xaxis": "x",
         "yaxis": "y"
        }
       ],
       "layout": {
        "barmode": "relative",
        "legend": {
         "tracegroupgap": 0
        },
        "margin": {
         "t": 60
        },
        "template": {
         "data": {
          "bar": [
           {
            "error_x": {
             "color": "#2a3f5f"
            },
            "error_y": {
             "color": "#2a3f5f"
            },
            "marker": {
             "line": {
              "color": "#E5ECF6",
              "width": 0.5
             },
             "pattern": {
              "fillmode": "overlay",
              "size": 10,
              "solidity": 0.2
             }
            },
            "type": "bar"
           }
          ],
          "barpolar": [
           {
            "marker": {
             "line": {
              "color": "#E5ECF6",
              "width": 0.5
             },
             "pattern": {
              "fillmode": "overlay",
              "size": 10,
              "solidity": 0.2
             }
            },
            "type": "barpolar"
           }
          ],
          "carpet": [
           {
            "aaxis": {
             "endlinecolor": "#2a3f5f",
             "gridcolor": "white",
             "linecolor": "white",
             "minorgridcolor": "white",
             "startlinecolor": "#2a3f5f"
            },
            "baxis": {
             "endlinecolor": "#2a3f5f",
             "gridcolor": "white",
             "linecolor": "white",
             "minorgridcolor": "white",
             "startlinecolor": "#2a3f5f"
            },
            "type": "carpet"
           }
          ],
          "choropleth": [
           {
            "colorbar": {
             "outlinewidth": 0,
             "ticks": ""
            },
            "type": "choropleth"
           }
          ],
          "contour": [
           {
            "colorbar": {
             "outlinewidth": 0,
             "ticks": ""
            },
            "colorscale": [
             [
              0,
              "#0d0887"
             ],
             [
              0.1111111111111111,
              "#46039f"
             ],
             [
              0.2222222222222222,
              "#7201a8"
             ],
             [
              0.3333333333333333,
              "#9c179e"
             ],
             [
              0.4444444444444444,
              "#bd3786"
             ],
             [
              0.5555555555555556,
              "#d8576b"
             ],
             [
              0.6666666666666666,
              "#ed7953"
             ],
             [
              0.7777777777777778,
              "#fb9f3a"
             ],
             [
              0.8888888888888888,
              "#fdca26"
             ],
             [
              1,
              "#f0f921"
             ]
            ],
            "type": "contour"
           }
          ],
          "contourcarpet": [
           {
            "colorbar": {
             "outlinewidth": 0,
             "ticks": ""
            },
            "type": "contourcarpet"
           }
          ],
          "heatmap": [
           {
            "colorbar": {
             "outlinewidth": 0,
             "ticks": ""
            },
            "colorscale": [
             [
              0,
              "#0d0887"
             ],
             [
              0.1111111111111111,
              "#46039f"
             ],
             [
              0.2222222222222222,
              "#7201a8"
             ],
             [
              0.3333333333333333,
              "#9c179e"
             ],
             [
              0.4444444444444444,
              "#bd3786"
             ],
             [
              0.5555555555555556,
              "#d8576b"
             ],
             [
              0.6666666666666666,
              "#ed7953"
             ],
             [
              0.7777777777777778,
              "#fb9f3a"
             ],
             [
              0.8888888888888888,
              "#fdca26"
             ],
             [
              1,
              "#f0f921"
             ]
            ],
            "type": "heatmap"
           }
          ],
          "heatmapgl": [
           {
            "colorbar": {
             "outlinewidth": 0,
             "ticks": ""
            },
            "colorscale": [
             [
              0,
              "#0d0887"
             ],
             [
              0.1111111111111111,
              "#46039f"
             ],
             [
              0.2222222222222222,
              "#7201a8"
             ],
             [
              0.3333333333333333,
              "#9c179e"
             ],
             [
              0.4444444444444444,
              "#bd3786"
             ],
             [
              0.5555555555555556,
              "#d8576b"
             ],
             [
              0.6666666666666666,
              "#ed7953"
             ],
             [
              0.7777777777777778,
              "#fb9f3a"
             ],
             [
              0.8888888888888888,
              "#fdca26"
             ],
             [
              1,
              "#f0f921"
             ]
            ],
            "type": "heatmapgl"
           }
          ],
          "histogram": [
           {
            "marker": {
             "pattern": {
              "fillmode": "overlay",
              "size": 10,
              "solidity": 0.2
             }
            },
            "type": "histogram"
           }
          ],
          "histogram2d": [
           {
            "colorbar": {
             "outlinewidth": 0,
             "ticks": ""
            },
            "colorscale": [
             [
              0,
              "#0d0887"
             ],
             [
              0.1111111111111111,
              "#46039f"
             ],
             [
              0.2222222222222222,
              "#7201a8"
             ],
             [
              0.3333333333333333,
              "#9c179e"
             ],
             [
              0.4444444444444444,
              "#bd3786"
             ],
             [
              0.5555555555555556,
              "#d8576b"
             ],
             [
              0.6666666666666666,
              "#ed7953"
             ],
             [
              0.7777777777777778,
              "#fb9f3a"
             ],
             [
              0.8888888888888888,
              "#fdca26"
             ],
             [
              1,
              "#f0f921"
             ]
            ],
            "type": "histogram2d"
           }
          ],
          "histogram2dcontour": [
           {
            "colorbar": {
             "outlinewidth": 0,
             "ticks": ""
            },
            "colorscale": [
             [
              0,
              "#0d0887"
             ],
             [
              0.1111111111111111,
              "#46039f"
             ],
             [
              0.2222222222222222,
              "#7201a8"
             ],
             [
              0.3333333333333333,
              "#9c179e"
             ],
             [
              0.4444444444444444,
              "#bd3786"
             ],
             [
              0.5555555555555556,
              "#d8576b"
             ],
             [
              0.6666666666666666,
              "#ed7953"
             ],
             [
              0.7777777777777778,
              "#fb9f3a"
             ],
             [
              0.8888888888888888,
              "#fdca26"
             ],
             [
              1,
              "#f0f921"
             ]
            ],
            "type": "histogram2dcontour"
           }
          ],
          "mesh3d": [
           {
            "colorbar": {
             "outlinewidth": 0,
             "ticks": ""
            },
            "type": "mesh3d"
           }
          ],
          "parcoords": [
           {
            "line": {
             "colorbar": {
              "outlinewidth": 0,
              "ticks": ""
             }
            },
            "type": "parcoords"
           }
          ],
          "pie": [
           {
            "automargin": true,
            "type": "pie"
           }
          ],
          "scatter": [
           {
            "fillpattern": {
             "fillmode": "overlay",
             "size": 10,
             "solidity": 0.2
            },
            "type": "scatter"
           }
          ],
          "scatter3d": [
           {
            "line": {
             "colorbar": {
              "outlinewidth": 0,
              "ticks": ""
             }
            },
            "marker": {
             "colorbar": {
              "outlinewidth": 0,
              "ticks": ""
             }
            },
            "type": "scatter3d"
           }
          ],
          "scattercarpet": [
           {
            "marker": {
             "colorbar": {
              "outlinewidth": 0,
              "ticks": ""
             }
            },
            "type": "scattercarpet"
           }
          ],
          "scattergeo": [
           {
            "marker": {
             "colorbar": {
              "outlinewidth": 0,
              "ticks": ""
             }
            },
            "type": "scattergeo"
           }
          ],
          "scattergl": [
           {
            "marker": {
             "colorbar": {
              "outlinewidth": 0,
              "ticks": ""
             }
            },
            "type": "scattergl"
           }
          ],
          "scattermapbox": [
           {
            "marker": {
             "colorbar": {
              "outlinewidth": 0,
              "ticks": ""
             }
            },
            "type": "scattermapbox"
           }
          ],
          "scatterpolar": [
           {
            "marker": {
             "colorbar": {
              "outlinewidth": 0,
              "ticks": ""
             }
            },
            "type": "scatterpolar"
           }
          ],
          "scatterpolargl": [
           {
            "marker": {
             "colorbar": {
              "outlinewidth": 0,
              "ticks": ""
             }
            },
            "type": "scatterpolargl"
           }
          ],
          "scatterternary": [
           {
            "marker": {
             "colorbar": {
              "outlinewidth": 0,
              "ticks": ""
             }
            },
            "type": "scatterternary"
           }
          ],
          "surface": [
           {
            "colorbar": {
             "outlinewidth": 0,
             "ticks": ""
            },
            "colorscale": [
             [
              0,
              "#0d0887"
             ],
             [
              0.1111111111111111,
              "#46039f"
             ],
             [
              0.2222222222222222,
              "#7201a8"
             ],
             [
              0.3333333333333333,
              "#9c179e"
             ],
             [
              0.4444444444444444,
              "#bd3786"
             ],
             [
              0.5555555555555556,
              "#d8576b"
             ],
             [
              0.6666666666666666,
              "#ed7953"
             ],
             [
              0.7777777777777778,
              "#fb9f3a"
             ],
             [
              0.8888888888888888,
              "#fdca26"
             ],
             [
              1,
              "#f0f921"
             ]
            ],
            "type": "surface"
           }
          ],
          "table": [
           {
            "cells": {
             "fill": {
              "color": "#EBF0F8"
             },
             "line": {
              "color": "white"
             }
            },
            "header": {
             "fill": {
              "color": "#C8D4E3"
             },
             "line": {
              "color": "white"
             }
            },
            "type": "table"
           }
          ]
         },
         "layout": {
          "annotationdefaults": {
           "arrowcolor": "#2a3f5f",
           "arrowhead": 0,
           "arrowwidth": 1
          },
          "autotypenumbers": "strict",
          "coloraxis": {
           "colorbar": {
            "outlinewidth": 0,
            "ticks": ""
           }
          },
          "colorscale": {
           "diverging": [
            [
             0,
             "#8e0152"
            ],
            [
             0.1,
             "#c51b7d"
            ],
            [
             0.2,
             "#de77ae"
            ],
            [
             0.3,
             "#f1b6da"
            ],
            [
             0.4,
             "#fde0ef"
            ],
            [
             0.5,
             "#f7f7f7"
            ],
            [
             0.6,
             "#e6f5d0"
            ],
            [
             0.7,
             "#b8e186"
            ],
            [
             0.8,
             "#7fbc41"
            ],
            [
             0.9,
             "#4d9221"
            ],
            [
             1,
             "#276419"
            ]
           ],
           "sequential": [
            [
             0,
             "#0d0887"
            ],
            [
             0.1111111111111111,
             "#46039f"
            ],
            [
             0.2222222222222222,
             "#7201a8"
            ],
            [
             0.3333333333333333,
             "#9c179e"
            ],
            [
             0.4444444444444444,
             "#bd3786"
            ],
            [
             0.5555555555555556,
             "#d8576b"
            ],
            [
             0.6666666666666666,
             "#ed7953"
            ],
            [
             0.7777777777777778,
             "#fb9f3a"
            ],
            [
             0.8888888888888888,
             "#fdca26"
            ],
            [
             1,
             "#f0f921"
            ]
           ],
           "sequentialminus": [
            [
             0,
             "#0d0887"
            ],
            [
             0.1111111111111111,
             "#46039f"
            ],
            [
             0.2222222222222222,
             "#7201a8"
            ],
            [
             0.3333333333333333,
             "#9c179e"
            ],
            [
             0.4444444444444444,
             "#bd3786"
            ],
            [
             0.5555555555555556,
             "#d8576b"
            ],
            [
             0.6666666666666666,
             "#ed7953"
            ],
            [
             0.7777777777777778,
             "#fb9f3a"
            ],
            [
             0.8888888888888888,
             "#fdca26"
            ],
            [
             1,
             "#f0f921"
            ]
           ]
          },
          "colorway": [
           "#636efa",
           "#EF553B",
           "#00cc96",
           "#ab63fa",
           "#FFA15A",
           "#19d3f3",
           "#FF6692",
           "#B6E880",
           "#FF97FF",
           "#FECB52"
          ],
          "font": {
           "color": "#2a3f5f"
          },
          "geo": {
           "bgcolor": "white",
           "lakecolor": "white",
           "landcolor": "#E5ECF6",
           "showlakes": true,
           "showland": true,
           "subunitcolor": "white"
          },
          "hoverlabel": {
           "align": "left"
          },
          "hovermode": "closest",
          "mapbox": {
           "style": "light"
          },
          "paper_bgcolor": "white",
          "plot_bgcolor": "#E5ECF6",
          "polar": {
           "angularaxis": {
            "gridcolor": "white",
            "linecolor": "white",
            "ticks": ""
           },
           "bgcolor": "#E5ECF6",
           "radialaxis": {
            "gridcolor": "white",
            "linecolor": "white",
            "ticks": ""
           }
          },
          "scene": {
           "xaxis": {
            "backgroundcolor": "#E5ECF6",
            "gridcolor": "white",
            "gridwidth": 2,
            "linecolor": "white",
            "showbackground": true,
            "ticks": "",
            "zerolinecolor": "white"
           },
           "yaxis": {
            "backgroundcolor": "#E5ECF6",
            "gridcolor": "white",
            "gridwidth": 2,
            "linecolor": "white",
            "showbackground": true,
            "ticks": "",
            "zerolinecolor": "white"
           },
           "zaxis": {
            "backgroundcolor": "#E5ECF6",
            "gridcolor": "white",
            "gridwidth": 2,
            "linecolor": "white",
            "showbackground": true,
            "ticks": "",
            "zerolinecolor": "white"
           }
          },
          "shapedefaults": {
           "line": {
            "color": "#2a3f5f"
           }
          },
          "ternary": {
           "aaxis": {
            "gridcolor": "white",
            "linecolor": "white",
            "ticks": ""
           },
           "baxis": {
            "gridcolor": "white",
            "linecolor": "white",
            "ticks": ""
           },
           "bgcolor": "#E5ECF6",
           "caxis": {
            "gridcolor": "white",
            "linecolor": "white",
            "ticks": ""
           }
          },
          "title": {
           "x": 0.05
          },
          "xaxis": {
           "automargin": true,
           "gridcolor": "white",
           "linecolor": "white",
           "ticks": "",
           "title": {
            "standoff": 15
           },
           "zerolinecolor": "white",
           "zerolinewidth": 2
          },
          "yaxis": {
           "automargin": true,
           "gridcolor": "white",
           "linecolor": "white",
           "ticks": "",
           "title": {
            "standoff": 15
           },
           "zerolinecolor": "white",
           "zerolinewidth": 2
          }
         }
        },
        "xaxis": {
         "anchor": "y",
         "domain": [
          0,
          1
         ],
         "title": {
          "text": "days_return"
         }
        },
        "yaxis": {
         "anchor": "x",
         "domain": [
          0,
          1
         ],
         "title": {
          "text": "count"
         }
        }
       }
      }
     },
     "metadata": {},
     "output_type": "display_data"
    }
   ],
   "source": [
    "fig = px.histogram(checkouts, x=\"days_return\")\n",
    "fig.show()"
   ]
  },
  {
   "cell_type": "code",
   "execution_count": null,
   "metadata": {},
   "outputs": [],
   "source": []
  }
 ],
 "metadata": {
  "kernelspec": {
   "display_name": ".venv",
   "language": "python",
   "name": "python3"
  },
  "language_info": {
   "codemirror_mode": {
    "name": "ipython",
    "version": 3
   },
   "file_extension": ".py",
   "mimetype": "text/x-python",
   "name": "python",
   "nbconvert_exporter": "python",
   "pygments_lexer": "ipython3",
   "version": "3.9.5"
  }
 },
 "nbformat": 4,
 "nbformat_minor": 2
}
