{
 "cells": [
  {
   "cell_type": "code",
<<<<<<< HEAD
   "execution_count": 1,
=======
   "execution_count": 17,
>>>>>>> 889cd7cb68ed1420730dca5293c40fb369fe7c2a
   "metadata": {},
   "outputs": [],
   "source": [
    "import pandas as pd\n",
    "import numpy as np\n",
    "import joblib\n",
<<<<<<< HEAD
    "\n",
    "import plotly.express as px\n",
=======
>>>>>>> 889cd7cb68ed1420730dca5293c40fb369fe7c2a
    "# import matplotlib.pyplot as plt\n",
    "\n",
    "# plt.style.use('ggplot')"
   ]
  },
  {
   "cell_type": "code",
<<<<<<< HEAD
   "execution_count": 2,
=======
   "execution_count": null,
   "metadata": {},
   "outputs": [],
   "source": [
    "!pip install plotly"
   ]
  },
  {
   "cell_type": "code",
   "execution_count": 23,
>>>>>>> 889cd7cb68ed1420730dca5293c40fb369fe7c2a
   "metadata": {},
   "outputs": [],
   "source": [
    "customers = joblib.load('data/customers_clean.pkl')\n",
    "checkouts = joblib.load('data/checkouts_clean.pkl')\n",
    "books = joblib.load('data/books_clean.pkl')\n",
    "libraries = joblib.load('data/libraries_clean.pkl')"
   ]
  },
  {
   "cell_type": "code",
<<<<<<< HEAD
   "execution_count": 3,
=======
   "execution_count": 24,
>>>>>>> 889cd7cb68ed1420730dca5293c40fb369fe7c2a
   "metadata": {},
   "outputs": [],
   "source": [
    "return_deadline = 28\n",
    "\n",
    "checkouts['days_return'] = (checkouts['date_returned']-checkouts['date_checkout']).dt.days"
   ]
  },
  {
   "cell_type": "markdown",
   "metadata": {},
   "source": [
    "## Late Return Aggregated Analysis\n",
    "---\n",
    "\n",
    "* Starting analysis is done on data from all libraries and all customer groups"
   ]
  },
  {
   "cell_type": "code",
<<<<<<< HEAD
   "execution_count": 4,
=======
   "execution_count": 26,
>>>>>>> 889cd7cb68ed1420730dca5293c40fb369fe7c2a
   "metadata": {},
   "outputs": [
    {
     "name": "stdout",
     "output_type": "stream",
     "text": [
      "Late returns total: 6.91%\n"
     ]
    }
   ],
   "source": [
    "print(f\"Late returns total: {100*len(checkouts[checkouts['days_return']>return_deadline])/len(checkouts):.2f}%\")"
   ]
  },
  {
   "cell_type": "code",
<<<<<<< HEAD
   "execution_count": 5,
=======
   "execution_count": 27,
>>>>>>> 889cd7cb68ed1420730dca5293c40fb369fe7c2a
   "metadata": {},
   "outputs": [
    {
     "data": {
<<<<<<< HEAD
      "application/vnd.plotly.v1+json": {
       "config": {
        "plotlyServerURL": "https://plot.ly"
       },
       "data": [
        {
         "alignmentgroup": "True",
         "bingroup": "x",
         "hovertemplate": "days_return=%{x}<br>count=%{y}<extra></extra>",
         "legendgroup": "",
         "marker": {
          "color": "#636efa",
          "pattern": {
           "shape": ""
          }
         },
         "name": "",
         "offsetgroup": "",
         "orientation": "v",
         "showlegend": false,
         "type": "histogram",
         "x": [
          14,
          62,
          100,
          25,
          21,
          18,
          26,
          122,
          10,
          63,
          5,
          8,
          8,
          16,
          10,
          22,
          25,
          17,
          134,
          12,
          22,
          25,
          23,
          11,
          11,
          10,
          15,
          53,
          27,
          17,
          7,
          26,
          11,
          15,
          5,
          22,
          15,
          19,
          21,
          21,
          13,
          5,
          11,
          16,
          10,
          17,
          19,
          5,
          19,
          24,
          25,
          17,
          7,
          11,
          13,
          18,
          21,
          14,
          25,
          17,
          26,
          20,
          27,
          25,
          21,
          24,
          8,
          14,
          25,
          12,
          6,
          20,
          22,
          6,
          23,
          20,
          5,
          7,
          5,
          68,
          9,
          16,
          14,
          24,
          27,
          24,
          56,
          179,
          10,
          20,
          25,
          141,
          5,
          13,
          10,
          5,
          15,
          27,
          5,
          22,
          16,
          18,
          23,
          25,
          25,
          15,
          15,
          22,
          25,
          5,
          19,
          7,
          23,
          17,
          23,
          12,
          14,
          12,
          18,
          18,
          16,
          19,
          20,
          8,
          25,
          21,
          12,
          24,
          25,
          8,
          15,
          15,
          14,
          16,
          27,
          23,
          6,
          20,
          22,
          17,
          20,
          6,
          6,
          15,
          27,
          6,
          20,
          19,
          11,
          17,
          14,
          54,
          72,
          22,
          153,
          11,
          8,
          18,
          17,
          26,
          79,
          23,
          27,
          15,
          6,
          22,
          8,
          11,
          21,
          7,
          8,
          15,
          104,
          13,
          6,
          12,
          20,
          17,
          17,
          14,
          23,
          23,
          15,
          8,
          16,
          19,
          27,
          5,
          9,
          18,
          23,
          16,
          5,
          18,
          10,
          11,
          61,
          170,
          25,
          5,
          13,
          5,
          16,
          27,
          7,
          22,
          5,
          8,
          5,
          10,
          14,
          13,
          23,
          9,
          17,
          14,
          15,
          6,
          11,
          21,
          13,
          19,
          15,
          26,
          20,
          13,
          8,
          26,
          19,
          10,
          14,
          9,
          18,
          17,
          81,
          25,
          5,
          6,
          26,
          11,
          5,
          24,
          25,
          19,
          18,
          24,
          19,
          21,
          18,
          20,
          7,
          11,
          16,
          151,
          6,
          22,
          8,
          16,
          7,
          9,
          7,
          24,
          26,
          5,
          8,
          20,
          12,
          17,
          7,
          6,
          6,
          7,
          15,
          95,
          58,
          16,
          17,
          20,
          14,
          8,
          21,
          6,
          8,
          7,
          24,
          8,
          19,
          90,
          22,
          25,
          6,
          112,
          10,
          22,
          20,
          15,
          12,
          14,
          24,
          11,
          5,
          6,
          9,
          25,
          12,
          16,
          7,
          22,
          27,
          63,
          18,
          25,
          11,
          41,
          12,
          10,
          10,
          19,
          11,
          6,
          5,
          13,
          16,
          11,
          24,
          103,
          10,
          26,
          17,
          14,
          27,
          19,
          21,
          27,
          126,
          5,
          26,
          19,
          24,
          17,
          11,
          14,
          23,
          47,
          23,
          16,
          20,
          15,
          16,
          22,
          74,
          22,
          23,
          27,
          19,
          11,
          8,
          24,
          15,
          11,
          18,
          11,
          7,
          7,
          9,
          22,
          11,
          16,
          19,
          18,
          7,
          14,
          8,
          15,
          145,
          17,
          9,
          26,
          26,
          15,
          9,
          26,
          24,
          23,
          25,
          8,
          8,
          21,
          5,
          22,
          26,
          24,
          25,
          11,
          15,
          24,
          15,
          16,
          21,
          17,
          17,
          18,
          15,
          25,
          16,
          20,
          19,
          12,
          18,
          24,
          20,
          8,
          17,
          5,
          22,
          9,
          26,
          8,
          21,
          10,
          7,
          25,
          19,
          16,
          21,
          25,
          5,
          27,
          11,
          16,
          21,
          24,
          5,
          20,
          7,
          18,
          14,
          19,
          12,
          5,
          6,
          13,
          17,
          20,
          178,
          24,
          13,
          52,
          12,
          5,
          18,
          15,
          26,
          14,
          9,
          10,
          6,
          22,
          15,
          24,
          6,
          19,
          18,
          15,
          15,
          5,
          15,
          14,
          22,
          23,
          13,
          25,
          16,
          23,
          15,
          16,
          13,
          8,
          25,
          20,
          95,
          8,
          19,
          6,
          5,
          16,
          15,
          25,
          5,
          19,
          12,
          19,
          10,
          20,
          20,
          22,
          17,
          12,
          17,
          21,
          21,
          16,
          5,
          19,
          26,
          27,
          21,
          12,
          8,
          18,
          14,
          14,
          12,
          13,
          19,
          22,
          9,
          27,
          23,
          11,
          8,
          15,
          18,
          16,
          59,
          7,
          8,
          26,
          16,
          27,
          63,
          9,
          5,
          42,
          17,
          50,
          10,
          17,
          11,
          5,
          20,
          9,
          75,
          7,
          11,
          17,
          12,
          21,
          22,
          25,
          13,
          14,
          26,
          24,
          6,
          13,
          5,
          9,
          25,
          24,
          15,
          6,
          26,
          27,
          18,
          21,
          20,
          16,
          18,
          9,
          16,
          11,
          25,
          20,
          19,
          21,
          6,
          16,
          109,
          21,
          6,
          16,
          72,
          173,
          26,
          17,
          11,
          27,
          26,
          15,
          15,
          32,
          132,
          7,
          45,
          16,
          16,
          46,
          24,
          12,
          27,
          19,
          22,
          18,
          20,
          25,
          22,
          12,
          10,
          5,
          7,
          6,
          17,
          11,
          5,
          12,
          12,
          25,
          20,
          11,
          22,
          5,
          25,
          11,
          29,
          8,
          12,
          5,
          14,
          13,
          14,
          21,
          14,
          26,
          9,
          173,
          6,
          11,
          21,
          18,
          20,
          26,
          12,
          173,
          26,
          13,
          17,
          7,
          161,
          8,
          27,
          7,
          27,
          5,
          16,
          20,
          15,
          13,
          175,
          5,
          8,
          20,
          25,
          24,
          19,
          134,
          26,
          5,
          14,
          15,
          24,
          22,
          19,
          17,
          13,
          9,
          22,
          23,
          19,
          10,
          6,
          162,
          16,
          22,
          14,
          20,
          27,
          24,
          25,
          24,
          14,
          23,
          15,
          23,
          25,
          14,
          142,
          7,
          19,
          18,
          24,
          23,
          8,
          27,
          13,
          16,
          21,
          16,
          5,
          11,
          6,
          6,
          21,
          10,
          24,
          21,
          6,
          5,
          16,
          15,
          168,
          44,
          11,
          17,
          6,
          5,
          22,
          13,
          12,
          5,
          7,
          13,
          22,
          20,
          20,
          8,
          48,
          11,
          12,
          17,
          26,
          20,
          8,
          26,
          11,
          20,
          21,
          156,
          16,
          25,
          14,
          13,
          24,
          25,
          12,
          11,
          9,
          21,
          26,
          16,
          22,
          18,
          19,
          78,
          5,
          21,
          17,
          18,
          20,
          6,
          14,
          12,
          18,
          21,
          18,
          11,
          23,
          5,
          16,
          21,
          118,
          11,
          15,
          17,
          26,
          17,
          18,
          9,
          8,
          5,
          10,
          7,
          16,
          26,
          25,
          18,
          8,
          93,
          8,
          13,
          17,
          15,
          20,
          23,
          24,
          7,
          16,
          22,
          10,
          6,
          11,
          21,
          22,
          17,
          15,
          15,
          13,
          11,
          139,
          25,
          21,
          25,
          12,
          27,
          16,
          15,
          16,
          6,
          15,
          17,
          14,
          8,
          13,
          26,
          5,
          8,
          22,
          92,
          25,
          8,
          18,
          18,
          18,
          23,
          13,
          17,
          24,
          17,
          12,
          22,
          26,
          6,
          22,
          177,
          12,
          5,
          25,
          6,
          9,
          6,
          15,
          17,
          24,
          20,
          18,
          24,
          10,
          16,
          7,
          19,
          24,
          20,
          23,
          20,
          8,
          24,
          24,
          24,
          6,
          27,
          11,
          9,
          5,
          14,
          24,
          16,
          25,
          25,
          15,
          25,
          145,
          15,
          27,
          25,
          21,
          16,
          18,
          25,
          12,
          24,
          18,
          8,
          165,
          14,
          11,
          11,
          10,
          27,
          22,
          11,
          6,
          9,
          27,
          11,
          17,
          23,
          15,
          8,
          8,
          8,
          17,
          26,
          11,
          8,
          11,
          8,
          21,
          8,
          97,
          17,
          6,
          116,
          26,
          5,
          15,
          13,
          9,
          19,
          18,
          23,
          5,
          13,
          20,
          6,
          26,
          9,
          7,
          25,
          22,
          9,
          22,
          16,
          9,
          21,
          27,
          6,
          17,
          26,
          23,
          75,
          5,
          15,
          9,
          22,
          27,
          29,
          12,
          26,
          26,
          18,
          8,
          20,
          10,
          24,
          8,
          13,
          8,
          10,
          6,
          27,
          25,
          8,
          16,
          12,
          14,
          10,
          19,
          173,
          5,
          15,
          23,
          25,
          17,
          21,
          5,
          9,
          23,
          10,
          7,
          26,
          9,
          13,
          11,
          6,
          25,
          16,
          5,
          146,
          10,
          13,
          24,
          16,
          14,
          17,
          24,
          6,
          20,
          23,
          10,
          7,
          6,
          7,
          15,
          24,
          16,
          24,
          13,
          7,
          21,
          12,
          24,
          26,
          26,
          5,
          7,
          7,
          19,
          11,
          6,
          19,
          13,
          21,
          23,
          6,
          8,
          9,
          26,
          57,
          6,
          11,
          13,
          18,
          13,
          7,
          20,
          22,
          23,
          14,
          25,
          16,
          26,
          47,
          9,
          21,
          27,
          13,
          25,
          9,
          23,
          23,
          23,
          19,
          23,
          16,
          15,
          6,
          12,
          12,
          19,
          14,
          20,
          22,
          94,
          5,
          26,
          17,
          8,
          16,
          21,
          18,
          23,
          16,
          55,
          7,
          22,
          11,
          6,
          18,
          21,
          18,
          21,
          6,
          16,
          13,
          16,
          27,
          12,
          146,
          70,
          8,
          22,
          16,
          12,
          20,
          14,
          21,
          13,
          27,
          12,
          30,
          86,
          19,
          23,
          11,
          8,
          14,
          26,
          45,
          10,
          20,
          63,
          27,
          17,
          21,
          27,
          20,
          9,
          17,
          23,
          17,
          5,
          101,
          6,
          19,
          26,
          18,
          25,
          14,
          17,
          10,
          59,
          55,
          18,
          7,
          17,
          15,
          26,
          12,
          27,
          12,
          12,
          13,
          20,
          23,
          21,
          27,
          23,
          13,
          20,
          9,
          9,
          8,
          16,
          9,
          21,
          23,
          15,
          9,
          25,
          19,
          128,
          6,
          5,
          9,
          22,
          21,
          21,
          24,
          25,
          10,
          11,
          17,
          19,
          7,
          22,
          24,
          9,
          23,
          12,
          20,
          20,
          5,
          13,
          5,
          6,
          16,
          18,
          10,
          24,
          14,
          11,
          22,
          27,
          11,
          22,
          22,
          18,
          19,
          17,
          6,
          19,
          20,
          20,
          14,
          15,
          19,
          20,
          23,
          7,
          15,
          18,
          14,
          9,
          18,
          25,
          18,
          8,
          12,
          14,
          16,
          18,
          15,
          6,
          19,
          13,
          116,
          7,
          18,
          24,
          13,
          27,
          18,
          18,
          26,
          15,
          11,
          13,
          70,
          19,
          11,
          12,
          6,
          8,
          12,
          15,
          15,
          22,
          18,
          79,
          8,
          15,
          19,
          14,
          8,
          10,
          144,
          18,
          25,
          25,
          23,
          26,
          127,
          67,
          23,
          13,
          22,
          8,
          9,
          6,
          18,
          15,
          10,
          13,
          24,
          15,
          19,
          17,
          27,
          27,
          8,
          18,
          22,
          24,
          27,
          8,
          24,
          15,
          10,
          15,
          20,
          21,
          20,
          12,
          144,
          14,
          22,
          8,
          15,
          8,
          15,
          27,
          23,
          6,
          20,
          21,
          23,
          24,
          6,
          10,
          19,
          22
         ],
         "xaxis": "x",
         "yaxis": "y"
        }
       ],
       "layout": {
        "barmode": "relative",
        "legend": {
         "tracegroupgap": 0
        },
        "margin": {
         "t": 60
        },
        "template": {
         "data": {
          "bar": [
           {
            "error_x": {
             "color": "#2a3f5f"
            },
            "error_y": {
             "color": "#2a3f5f"
            },
            "marker": {
             "line": {
              "color": "#E5ECF6",
              "width": 0.5
             },
             "pattern": {
              "fillmode": "overlay",
              "size": 10,
              "solidity": 0.2
             }
            },
            "type": "bar"
           }
          ],
          "barpolar": [
           {
            "marker": {
             "line": {
              "color": "#E5ECF6",
              "width": 0.5
             },
             "pattern": {
              "fillmode": "overlay",
              "size": 10,
              "solidity": 0.2
             }
            },
            "type": "barpolar"
           }
          ],
          "carpet": [
           {
            "aaxis": {
             "endlinecolor": "#2a3f5f",
             "gridcolor": "white",
             "linecolor": "white",
             "minorgridcolor": "white",
             "startlinecolor": "#2a3f5f"
            },
            "baxis": {
             "endlinecolor": "#2a3f5f",
             "gridcolor": "white",
             "linecolor": "white",
             "minorgridcolor": "white",
             "startlinecolor": "#2a3f5f"
            },
            "type": "carpet"
           }
          ],
          "choropleth": [
           {
            "colorbar": {
             "outlinewidth": 0,
             "ticks": ""
            },
            "type": "choropleth"
           }
          ],
          "contour": [
           {
            "colorbar": {
             "outlinewidth": 0,
             "ticks": ""
            },
            "colorscale": [
             [
              0,
              "#0d0887"
             ],
             [
              0.1111111111111111,
              "#46039f"
             ],
             [
              0.2222222222222222,
              "#7201a8"
             ],
             [
              0.3333333333333333,
              "#9c179e"
             ],
             [
              0.4444444444444444,
              "#bd3786"
             ],
             [
              0.5555555555555556,
              "#d8576b"
             ],
             [
              0.6666666666666666,
              "#ed7953"
             ],
             [
              0.7777777777777778,
              "#fb9f3a"
             ],
             [
              0.8888888888888888,
              "#fdca26"
             ],
             [
              1,
              "#f0f921"
             ]
            ],
            "type": "contour"
           }
          ],
          "contourcarpet": [
           {
            "colorbar": {
             "outlinewidth": 0,
             "ticks": ""
            },
            "type": "contourcarpet"
           }
          ],
          "heatmap": [
           {
            "colorbar": {
             "outlinewidth": 0,
             "ticks": ""
            },
            "colorscale": [
             [
              0,
              "#0d0887"
             ],
             [
              0.1111111111111111,
              "#46039f"
             ],
             [
              0.2222222222222222,
              "#7201a8"
             ],
             [
              0.3333333333333333,
              "#9c179e"
             ],
             [
              0.4444444444444444,
              "#bd3786"
             ],
             [
              0.5555555555555556,
              "#d8576b"
             ],
             [
              0.6666666666666666,
              "#ed7953"
             ],
             [
              0.7777777777777778,
              "#fb9f3a"
             ],
             [
              0.8888888888888888,
              "#fdca26"
             ],
             [
              1,
              "#f0f921"
             ]
            ],
            "type": "heatmap"
           }
          ],
          "heatmapgl": [
           {
            "colorbar": {
             "outlinewidth": 0,
             "ticks": ""
            },
            "colorscale": [
             [
              0,
              "#0d0887"
             ],
             [
              0.1111111111111111,
              "#46039f"
             ],
             [
              0.2222222222222222,
              "#7201a8"
             ],
             [
              0.3333333333333333,
              "#9c179e"
             ],
             [
              0.4444444444444444,
              "#bd3786"
             ],
             [
              0.5555555555555556,
              "#d8576b"
             ],
             [
              0.6666666666666666,
              "#ed7953"
             ],
             [
              0.7777777777777778,
              "#fb9f3a"
             ],
             [
              0.8888888888888888,
              "#fdca26"
             ],
             [
              1,
              "#f0f921"
             ]
            ],
            "type": "heatmapgl"
           }
          ],
          "histogram": [
           {
            "marker": {
             "pattern": {
              "fillmode": "overlay",
              "size": 10,
              "solidity": 0.2
             }
            },
            "type": "histogram"
           }
          ],
          "histogram2d": [
           {
            "colorbar": {
             "outlinewidth": 0,
             "ticks": ""
            },
            "colorscale": [
             [
              0,
              "#0d0887"
             ],
             [
              0.1111111111111111,
              "#46039f"
             ],
             [
              0.2222222222222222,
              "#7201a8"
             ],
             [
              0.3333333333333333,
              "#9c179e"
             ],
             [
              0.4444444444444444,
              "#bd3786"
             ],
             [
              0.5555555555555556,
              "#d8576b"
             ],
             [
              0.6666666666666666,
              "#ed7953"
             ],
             [
              0.7777777777777778,
              "#fb9f3a"
             ],
             [
              0.8888888888888888,
              "#fdca26"
             ],
             [
              1,
              "#f0f921"
             ]
            ],
            "type": "histogram2d"
           }
          ],
          "histogram2dcontour": [
           {
            "colorbar": {
             "outlinewidth": 0,
             "ticks": ""
            },
            "colorscale": [
             [
              0,
              "#0d0887"
             ],
             [
              0.1111111111111111,
              "#46039f"
             ],
             [
              0.2222222222222222,
              "#7201a8"
             ],
             [
              0.3333333333333333,
              "#9c179e"
             ],
             [
              0.4444444444444444,
              "#bd3786"
             ],
             [
              0.5555555555555556,
              "#d8576b"
             ],
             [
              0.6666666666666666,
              "#ed7953"
             ],
             [
              0.7777777777777778,
              "#fb9f3a"
             ],
             [
              0.8888888888888888,
              "#fdca26"
             ],
             [
              1,
              "#f0f921"
             ]
            ],
            "type": "histogram2dcontour"
           }
          ],
          "mesh3d": [
           {
            "colorbar": {
             "outlinewidth": 0,
             "ticks": ""
            },
            "type": "mesh3d"
           }
          ],
          "parcoords": [
           {
            "line": {
             "colorbar": {
              "outlinewidth": 0,
              "ticks": ""
             }
            },
            "type": "parcoords"
           }
          ],
          "pie": [
           {
            "automargin": true,
            "type": "pie"
           }
          ],
          "scatter": [
           {
            "fillpattern": {
             "fillmode": "overlay",
             "size": 10,
             "solidity": 0.2
            },
            "type": "scatter"
           }
          ],
          "scatter3d": [
           {
            "line": {
             "colorbar": {
              "outlinewidth": 0,
              "ticks": ""
             }
            },
            "marker": {
             "colorbar": {
              "outlinewidth": 0,
              "ticks": ""
             }
            },
            "type": "scatter3d"
           }
          ],
          "scattercarpet": [
           {
            "marker": {
             "colorbar": {
              "outlinewidth": 0,
              "ticks": ""
             }
            },
            "type": "scattercarpet"
           }
          ],
          "scattergeo": [
           {
            "marker": {
             "colorbar": {
              "outlinewidth": 0,
              "ticks": ""
             }
            },
            "type": "scattergeo"
           }
          ],
          "scattergl": [
           {
            "marker": {
             "colorbar": {
              "outlinewidth": 0,
              "ticks": ""
             }
            },
            "type": "scattergl"
           }
          ],
          "scattermapbox": [
           {
            "marker": {
             "colorbar": {
              "outlinewidth": 0,
              "ticks": ""
             }
            },
            "type": "scattermapbox"
           }
          ],
          "scatterpolar": [
           {
            "marker": {
             "colorbar": {
              "outlinewidth": 0,
              "ticks": ""
             }
            },
            "type": "scatterpolar"
           }
          ],
          "scatterpolargl": [
           {
            "marker": {
             "colorbar": {
              "outlinewidth": 0,
              "ticks": ""
             }
            },
            "type": "scatterpolargl"
           }
          ],
          "scatterternary": [
           {
            "marker": {
             "colorbar": {
              "outlinewidth": 0,
              "ticks": ""
             }
            },
            "type": "scatterternary"
           }
          ],
          "surface": [
           {
            "colorbar": {
             "outlinewidth": 0,
             "ticks": ""
            },
            "colorscale": [
             [
              0,
              "#0d0887"
             ],
             [
              0.1111111111111111,
              "#46039f"
             ],
             [
              0.2222222222222222,
              "#7201a8"
             ],
             [
              0.3333333333333333,
              "#9c179e"
             ],
             [
              0.4444444444444444,
              "#bd3786"
             ],
             [
              0.5555555555555556,
              "#d8576b"
             ],
             [
              0.6666666666666666,
              "#ed7953"
             ],
             [
              0.7777777777777778,
              "#fb9f3a"
             ],
             [
              0.8888888888888888,
              "#fdca26"
             ],
             [
              1,
              "#f0f921"
             ]
            ],
            "type": "surface"
           }
          ],
          "table": [
           {
            "cells": {
             "fill": {
              "color": "#EBF0F8"
             },
             "line": {
              "color": "white"
             }
            },
            "header": {
             "fill": {
              "color": "#C8D4E3"
             },
             "line": {
              "color": "white"
             }
            },
            "type": "table"
           }
          ]
         },
         "layout": {
          "annotationdefaults": {
           "arrowcolor": "#2a3f5f",
           "arrowhead": 0,
           "arrowwidth": 1
          },
          "autotypenumbers": "strict",
          "coloraxis": {
           "colorbar": {
            "outlinewidth": 0,
            "ticks": ""
           }
          },
          "colorscale": {
           "diverging": [
            [
             0,
             "#8e0152"
            ],
            [
             0.1,
             "#c51b7d"
            ],
            [
             0.2,
             "#de77ae"
            ],
            [
             0.3,
             "#f1b6da"
            ],
            [
             0.4,
             "#fde0ef"
            ],
            [
             0.5,
             "#f7f7f7"
            ],
            [
             0.6,
             "#e6f5d0"
            ],
            [
             0.7,
             "#b8e186"
            ],
            [
             0.8,
             "#7fbc41"
            ],
            [
             0.9,
             "#4d9221"
            ],
            [
             1,
             "#276419"
            ]
           ],
           "sequential": [
            [
             0,
             "#0d0887"
            ],
            [
             0.1111111111111111,
             "#46039f"
            ],
            [
             0.2222222222222222,
             "#7201a8"
            ],
            [
             0.3333333333333333,
             "#9c179e"
            ],
            [
             0.4444444444444444,
             "#bd3786"
            ],
            [
             0.5555555555555556,
             "#d8576b"
            ],
            [
             0.6666666666666666,
             "#ed7953"
            ],
            [
             0.7777777777777778,
             "#fb9f3a"
            ],
            [
             0.8888888888888888,
             "#fdca26"
            ],
            [
             1,
             "#f0f921"
            ]
           ],
           "sequentialminus": [
            [
             0,
             "#0d0887"
            ],
            [
             0.1111111111111111,
             "#46039f"
            ],
            [
             0.2222222222222222,
             "#7201a8"
            ],
            [
             0.3333333333333333,
             "#9c179e"
            ],
            [
             0.4444444444444444,
             "#bd3786"
            ],
            [
             0.5555555555555556,
             "#d8576b"
            ],
            [
             0.6666666666666666,
             "#ed7953"
            ],
            [
             0.7777777777777778,
             "#fb9f3a"
            ],
            [
             0.8888888888888888,
             "#fdca26"
            ],
            [
             1,
             "#f0f921"
            ]
           ]
          },
          "colorway": [
           "#636efa",
           "#EF553B",
           "#00cc96",
           "#ab63fa",
           "#FFA15A",
           "#19d3f3",
           "#FF6692",
           "#B6E880",
           "#FF97FF",
           "#FECB52"
          ],
          "font": {
           "color": "#2a3f5f"
          },
          "geo": {
           "bgcolor": "white",
           "lakecolor": "white",
           "landcolor": "#E5ECF6",
           "showlakes": true,
           "showland": true,
           "subunitcolor": "white"
          },
          "hoverlabel": {
           "align": "left"
          },
          "hovermode": "closest",
          "mapbox": {
           "style": "light"
          },
          "paper_bgcolor": "white",
          "plot_bgcolor": "#E5ECF6",
          "polar": {
           "angularaxis": {
            "gridcolor": "white",
            "linecolor": "white",
            "ticks": ""
           },
           "bgcolor": "#E5ECF6",
           "radialaxis": {
            "gridcolor": "white",
            "linecolor": "white",
            "ticks": ""
           }
          },
          "scene": {
           "xaxis": {
            "backgroundcolor": "#E5ECF6",
            "gridcolor": "white",
            "gridwidth": 2,
            "linecolor": "white",
            "showbackground": true,
            "ticks": "",
            "zerolinecolor": "white"
           },
           "yaxis": {
            "backgroundcolor": "#E5ECF6",
            "gridcolor": "white",
            "gridwidth": 2,
            "linecolor": "white",
            "showbackground": true,
            "ticks": "",
            "zerolinecolor": "white"
           },
           "zaxis": {
            "backgroundcolor": "#E5ECF6",
            "gridcolor": "white",
            "gridwidth": 2,
            "linecolor": "white",
            "showbackground": true,
            "ticks": "",
            "zerolinecolor": "white"
           }
          },
          "shapedefaults": {
           "line": {
            "color": "#2a3f5f"
           }
          },
          "ternary": {
           "aaxis": {
            "gridcolor": "white",
            "linecolor": "white",
            "ticks": ""
           },
           "baxis": {
            "gridcolor": "white",
            "linecolor": "white",
            "ticks": ""
           },
           "bgcolor": "#E5ECF6",
           "caxis": {
            "gridcolor": "white",
            "linecolor": "white",
            "ticks": ""
           }
          },
          "title": {
           "x": 0.05
          },
          "xaxis": {
           "automargin": true,
           "gridcolor": "white",
           "linecolor": "white",
           "ticks": "",
           "title": {
            "standoff": 15
           },
           "zerolinecolor": "white",
           "zerolinewidth": 2
          },
          "yaxis": {
           "automargin": true,
           "gridcolor": "white",
           "linecolor": "white",
           "ticks": "",
           "title": {
            "standoff": 15
           },
           "zerolinecolor": "white",
           "zerolinewidth": 2
          }
         }
        },
        "xaxis": {
         "anchor": "y",
         "domain": [
          0,
          1
         ],
         "title": {
          "text": "days_return"
         }
        },
        "yaxis": {
         "anchor": "x",
         "domain": [
          0,
          1
         ],
         "title": {
          "text": "count"
         }
        }
       }
      }
=======
      "text/plain": [
       "array([[<Axes: title={'center': 'days_return'}>]], dtype=object)"
      ]
     },
     "execution_count": 27,
     "metadata": {},
     "output_type": "execute_result"
    },
    {
     "data": {
      "image/png": "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",
      "text/plain": [
       "<Figure size 640x480 with 1 Axes>"
      ]
>>>>>>> 889cd7cb68ed1420730dca5293c40fb369fe7c2a
     },
     "metadata": {},
     "output_type": "display_data"
    }
   ],
   "source": [
<<<<<<< HEAD
    "fig = px.histogram(checkouts, x=\"days_return\")\n",
    "fig.show()"
=======
    "checkouts.hist('days_return', bins=50)"
>>>>>>> 889cd7cb68ed1420730dca5293c40fb369fe7c2a
   ]
  },
  {
   "cell_type": "code",
   "execution_count": null,
   "metadata": {},
   "outputs": [],
   "source": []
  }
 ],
 "metadata": {
  "kernelspec": {
   "display_name": ".venv",
   "language": "python",
   "name": "python3"
  },
  "language_info": {
   "codemirror_mode": {
    "name": "ipython",
    "version": 3
   },
   "file_extension": ".py",
   "mimetype": "text/x-python",
   "name": "python",
   "nbconvert_exporter": "python",
   "pygments_lexer": "ipython3",
   "version": "3.9.5"
  }
 },
 "nbformat": 4,
 "nbformat_minor": 2
}
